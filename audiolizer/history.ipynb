{
 "cells": [
  {
   "cell_type": "code",
   "execution_count": null,
   "id": "9e92ad82",
   "metadata": {},
   "outputs": [],
   "source": [
    "from audiolizer import get_history"
   ]
  },
  {
   "cell_type": "code",
   "execution_count": null,
   "id": "071ffc5e",
   "metadata": {},
   "outputs": [],
   "source": [
    "help(get_history)"
   ]
  },
  {
   "cell_type": "code",
   "execution_count": null,
   "id": "3fb0b682",
   "metadata": {},
   "outputs": [],
   "source": [
    "from audiolizer import granularity, audiolizer_temp_dir, get_gaps, load_date\n",
    "import pandas as pd\n",
    "import os\n",
    "\n",
    "def get_history(ticker, start_date, end_date = None, granularity=granularity, fetch=True):\n",
    "    \"\"\"Fetch/load historical data from Coinbase API at specified granularity\n",
    "\n",
    "    params:\n",
    "        start_date: (str) (see pandas.to_datetime for acceptable formats)\n",
    "        end_date: (str)\n",
    "        granularity: (int) seconds (default: 300)\n",
    "\n",
    "    price data is saved by ticker and date and stored in audiolizer_temp_dir\n",
    "    \"\"\"\n",
    "    start_date = pd.to_datetime(start_date).tz_localize(None)\n",
    "    \n",
    "    today = pd.Timestamp.now().tz_localize(None)\n",
    "    if end_date is None:\n",
    "        end_date = today + pd.Timedelta('1D')\n",
    "    else:\n",
    "        end_date = min(today, pd.to_datetime(end_date).tz_localize(None))\n",
    "        \n",
    "    fnames = []\n",
    "    foundlings = []\n",
    "    dates = []\n",
    "    batch = []\n",
    "    batch_number = 0\n",
    "    last_found = -1\n",
    "    for int_ in pd.interval_range(start_date, end_date):\n",
    "        dates.append(int_.left)\n",
    "        fname = audiolizer_temp_dir + '/{}-{}.csv.gz'.format(\n",
    "            ticker, int_.left.strftime('%Y-%m-%d'))\n",
    "        found = int(os.path.exists(fname))\n",
    "        foundlings.append(found)\n",
    "        if found != last_found:\n",
    "            batch_number += 1\n",
    "        last_found = found\n",
    "        batch.append(batch_number)\n",
    "        if not found:\n",
    "            if fetch:\n",
    "                print('missing {}'.format(int_))\n",
    "                int_df = load_date(ticker, granularity, int_)\n",
    "                int_df.to_csv(fname, compression='gzip')\n",
    "        fnames.append(fname)\n",
    "        \n",
    "    return dates, fnames, foundlings, batch\n",
    "\n",
    "    df = pd.concat(map(lambda file: pd.read_csv(file, index_col='time', parse_dates=True),\n",
    "                         fnames)).drop_duplicates()\n",
    "    gaps = get_gaps(df, granularity)\n",
    "\n",
    "    if len(gaps) > 0:\n",
    "        print('found data gaps')\n",
    "        # fetch the data for each date\n",
    "        for start_date in gaps.groupby(pd.Grouper(freq='1d')).first().index:\n",
    "            print('\\tfetching {}'.format(start_date))\n",
    "            int_ = pd.interval_range(start=start_date, periods=1, freq='1d')\n",
    "            int_ = pd.Interval(int_.left[0], int_.right[0])\n",
    "            int_df = load_date(ticker, granularity, int_)\n",
    "            fname = audiolizer_temp_dir + '/{}-{}.csv.gz'.format(\n",
    "                ticker, int_.left.strftime('%Y-%m-%d'))\n",
    "            int_df.to_csv(fname, compression='gzip')\n",
    "\n",
    "    df = pd.concat(map(lambda file: pd.read_csv(file,index_col='time', parse_dates=True, compression='gzip'),\n",
    "                         fnames)).drop_duplicates()\n",
    "\n",
    "    return df"
   ]
  },
  {
   "cell_type": "code",
   "execution_count": null,
   "id": "a0d9d2f6",
   "metadata": {},
   "outputs": [],
   "source": [
    "dates, files, found, batch = get_history('BTC-USD', '2020-04-28', '2020-05-10', fetch=False)"
   ]
  },
  {
   "cell_type": "code",
   "execution_count": null,
   "id": "7513f4f7",
   "metadata": {},
   "outputs": [],
   "source": [
    "df = pd.DataFrame(dict(files=files, found=found, batch=batch), index=dates)\n",
    "df"
   ]
  },
  {
   "cell_type": "code",
   "execution_count": null,
   "id": "4946d806",
   "metadata": {},
   "outputs": [],
   "source": [
    "df[df.found==0]"
   ]
  },
  {
   "cell_type": "code",
   "execution_count": null,
   "id": "681b091d",
   "metadata": {},
   "outputs": [],
   "source": [
    "ticker='BTC-USD'"
   ]
  },
  {
   "cell_type": "code",
   "execution_count": null,
   "id": "c3f6041c",
   "metadata": {},
   "outputs": [],
   "source": [
    "# Iterate over batches of missing dates\n",
    "\n",
    "for batch, g in df[df.found==0].groupby('batch', sort=False):\n",
    "    endpoints = [t.strftime('%Y-%m-%d-%H-%M') for t in g.iloc[[0,-1]].index]\n",
    "    print(len(g), endpoints)\n",
    "    for t in g.index:\n",
    "        tstr = t.strftime('%Y-%m-%d-%H-%M')\n",
    "        fname = '{}-{}.csv.gz'.format(ticker, tstr)\n",
    "#     data = fetch_data(ticker, granularity, *endpoints)"
   ]
  },
  {
   "cell_type": "code",
   "execution_count": null,
   "id": "ed669f88",
   "metadata": {},
   "outputs": [],
   "source": [
    "fname"
   ]
  },
  {
   "cell_type": "code",
   "execution_count": null,
   "id": "aa4ac44b",
   "metadata": {},
   "outputs": [],
   "source": [
    "endpoints[0].strftime('%Y-%m-%d-%H-%M')"
   ]
  },
  {
   "cell_type": "code",
   "execution_count": null,
   "id": "2b678491",
   "metadata": {},
   "outputs": [],
   "source": [
    "from audiolizer import HistoricalData\n",
    "\n",
    "def fetch_data(ticker, granularity, start_, end_):\n",
    "    \"\"\"Need dates in this format %Y-%m-%d-%H-%M\"\"\"\n",
    "    try:\n",
    "        return HistoricalData(ticker,\n",
    "                              granularity,\n",
    "                              start_,\n",
    "                              end_,\n",
    "                              ).retrieve_data()\n",
    "    except:\n",
    "        print('could not load using {} {}'.format(start_, end_))\n",
    "        raise\n"
   ]
  },
  {
   "cell_type": "code",
   "execution_count": null,
   "id": "8d793e06",
   "metadata": {},
   "outputs": [],
   "source": [
    "data = fetch_data('BTC-USD', 300, *endpoints)"
   ]
  },
  {
   "cell_type": "code",
   "execution_count": null,
   "id": "223d9999",
   "metadata": {},
   "outputs": [],
   "source": [
    "data"
   ]
  },
  {
   "cell_type": "code",
   "execution_count": null,
   "id": "7613452b",
   "metadata": {},
   "outputs": [],
   "source": [
    "start_ = int_.left.strftime('%Y-%m-%d-%H-%M')\n",
    "end_ = int_.right.strftime('%Y-%m-%d-%H-%M')"
   ]
  },
  {
   "cell_type": "markdown",
   "id": "6a62acba",
   "metadata": {},
   "source": [
    "Objective: get_history should fetch all the data at once then save it to separate files."
   ]
  },
  {
   "cell_type": "code",
   "execution_count": null,
   "id": "42af7280",
   "metadata": {},
   "outputs": [],
   "source": [
    "df"
   ]
  },
  {
   "cell_type": "code",
   "execution_count": null,
   "id": "a254d3da",
   "metadata": {},
   "outputs": [],
   "source": []
  }
 ],
 "metadata": {
  "jupytext": {
   "formats": "ipynb,auto:light"
  },
  "kernelspec": {
   "display_name": "Python 3 (ipykernel)",
   "language": "python",
   "name": "python3"
  },
  "language_info": {
   "codemirror_mode": {
    "name": "ipython",
    "version": 3
   },
   "file_extension": ".py",
   "mimetype": "text/x-python",
   "name": "python",
   "nbconvert_exporter": "python",
   "pygments_lexer": "ipython3",
   "version": "3.7.11"
  }
 },
 "nbformat": 4,
 "nbformat_minor": 5
}
