{
 "cells": [
  {
   "cell_type": "markdown",
   "id": "6a62acba",
   "metadata": {},
   "source": [
    "Objective: get_history should fetch all the data at once then save it to separate files."
   ]
  },
  {
   "cell_type": "code",
   "execution_count": null,
   "id": "9e92ad82",
   "metadata": {},
   "outputs": [],
   "source": [
    "from audiolizer import get_history"
   ]
  },
  {
   "cell_type": "code",
   "execution_count": null,
   "id": "071ffc5e",
   "metadata": {},
   "outputs": [],
   "source": [
    "help(get_history)"
   ]
  },
  {
   "cell_type": "code",
   "execution_count": null,
   "id": "2b678491",
   "metadata": {},
   "outputs": [],
   "source": [
    "from audiolizer import HistoricalData\n",
    "from audiolizer import granularity, audiolizer_temp_dir, get_gaps, load_date\n",
    "import pandas as pd\n",
    "import os\n",
    "\n",
    "\n",
    "def fetch_data(ticker, granularity, start_, end_):\n",
    "    \"\"\"Need dates in this format %Y-%m-%d-%H-%M\"\"\"\n",
    "    try:\n",
    "        return HistoricalData(ticker,\n",
    "                              granularity,\n",
    "                              start_,\n",
    "                              end_,\n",
    "                              ).retrieve_data()\n",
    "    except:\n",
    "        print('could not load using {} {}'.format(start_, end_))\n",
    "        raise\n",
    "\n",
    "\n",
    "def write_data(df):\n",
    "    for t, day in df.groupby(pd.Grouper(freq='1D')):\n",
    "        tstr = t.strftime('%Y-%m-%d-%H-%M')\n",
    "        fname = audiolizer_temp_dir + '/{}-{}.csv.gz'.format(\n",
    "                ticker, t.strftime('%Y-%m-%d'))\n",
    "        day.to_csv(fname, compression='gzip')\n",
    "        print('wrote {}'.format(fname))\n",
    "        \n",
    "def fetch_missing(files_status):\n",
    "    \"\"\"Iterate over batches of missing dates\"\"\"\n",
    "    for batch, g in files_status[files_status.found==0].groupby('batch', sort=False):\n",
    "        t1, t2 = g.iloc[[0,-1]].index\n",
    "        if t1 == t2:\n",
    "            t2 = t1 + pd.Timedelta('1D')\n",
    "        endpoints = [t.strftime('%Y-%m-%d-%H-%M') for t in [t1, t2]]\n",
    "        print('fetching {}, {}'.format(len(g), endpoints))\n",
    "        df = fetch_data(ticker, granularity, *endpoints)\n",
    "        write_data(df)\n",
    "\n",
    "def get_history(ticker, start_date, end_date = None, granularity=granularity):\n",
    "    \"\"\"Fetch/load historical data from Coinbase API at specified granularity\n",
    "\n",
    "    params:\n",
    "        start_date: (str) (see pandas.to_datetime for acceptable formats)\n",
    "        end_date: (str)\n",
    "        granularity: (int) seconds (default: 300)\n",
    "\n",
    "    price data is saved by ticker and date and stored in audiolizer_temp_dir\n",
    "    \"\"\"\n",
    "    start_date = pd.to_datetime(start_date).tz_localize(None)\n",
    "    \n",
    "    today = pd.Timestamp.now().tz_localize(None)\n",
    "    if end_date is None:\n",
    "        end_date = today + pd.Timedelta('1D')\n",
    "    else:\n",
    "        end_date = min(today, pd.to_datetime(end_date).tz_localize(None))\n",
    "        \n",
    "    fnames = []\n",
    "    foundlings = []\n",
    "    dates = []\n",
    "    batch = []\n",
    "    batch_number = 0\n",
    "    last_found = -1\n",
    "    for int_ in pd.interval_range(start_date, end_date):\n",
    "        dates.append(int_.left)\n",
    "        fname = audiolizer_temp_dir + '/{}-{}.csv.gz'.format(\n",
    "            ticker, int_.left.strftime('%Y-%m-%d'))\n",
    "        found = int(os.path.exists(fname))\n",
    "        foundlings.append(found)\n",
    "        if found != last_found:\n",
    "            batch_number += 1\n",
    "        last_found = found\n",
    "        batch.append(batch_number)\n",
    "        fnames.append(fname)\n",
    "    \n",
    "    \n",
    "    files_status = pd.DataFrame(dict(files=fnames, found=foundlings, batch=batch), index=dates)\n",
    "    fetch_missing(files_status)\n",
    "\n",
    "    df = pd.concat(map(lambda file: pd.read_csv(file, index_col='time', parse_dates=True),\n",
    "                         fnames)).drop_duplicates()\n",
    "    gaps = get_gaps(df, granularity)\n",
    "\n",
    "    if len(gaps) > 0:\n",
    "        print('found {} data gaps'.format(len(gaps)))\n",
    "        # fetch the data for each date\n",
    "        for start_date in gaps.groupby(pd.Grouper(freq='1d')).first().index:\n",
    "            print('\\tfetching {}'.format(start_date))\n",
    "            int_ = pd.interval_range(start=start_date, periods=1, freq='1d')\n",
    "            int_ = pd.Interval(int_.left[0], int_.right[0])\n",
    "            int_df = load_date(ticker, granularity, int_)\n",
    "            fname = audiolizer_temp_dir + '/{}-{}.csv.gz'.format(\n",
    "                ticker, int_.left.strftime('%Y-%m-%d'))\n",
    "            int_df.to_csv(fname, compression='gzip')\n",
    "\n",
    "    df = pd.concat(map(lambda file: pd.read_csv(file,index_col='time', parse_dates=True, compression='gzip'),\n",
    "                         fnames)).drop_duplicates()\n",
    "\n",
    "    return df"
   ]
  },
  {
   "cell_type": "code",
   "execution_count": null,
   "id": "a0d9d2f6",
   "metadata": {},
   "outputs": [],
   "source": [
    "hist = get_history('BTC-USD', '2020-04-25', '2020-05-13')"
   ]
  },
  {
   "cell_type": "code",
   "execution_count": null,
   "id": "df3aacb3",
   "metadata": {},
   "outputs": [],
   "source": [
    "hist"
   ]
  },
  {
   "cell_type": "code",
   "execution_count": null,
   "id": "9f2076b6",
   "metadata": {},
   "outputs": [],
   "source": [
    "for int_ in pd.interval_range(pd.to_datetime('2020-04-26'), pd.to_datetime( '2020-05-13')):\n",
    "    pass"
   ]
  },
  {
   "cell_type": "code",
   "execution_count": null,
   "id": "24e932d3",
   "metadata": {},
   "outputs": [],
   "source": [
    "int_.left"
   ]
  },
  {
   "cell_type": "code",
   "execution_count": null,
   "id": "1e7176ac",
   "metadata": {},
   "outputs": [],
   "source": [
    "int_.right"
   ]
  },
  {
   "cell_type": "code",
   "execution_count": null,
   "id": "7453d729",
   "metadata": {},
   "outputs": [],
   "source": []
  }
 ],
 "metadata": {
  "jupytext": {
   "formats": "ipynb,auto:light"
  },
  "kernelspec": {
   "display_name": "Python 3 (ipykernel)",
   "language": "python",
   "name": "python3"
  },
  "language_info": {
   "codemirror_mode": {
    "name": "ipython",
    "version": 3
   },
   "file_extension": ".py",
   "mimetype": "text/x-python",
   "name": "python",
   "nbconvert_exporter": "python",
   "pygments_lexer": "ipython3",
   "version": "3.7.11"
  }
 },
 "nbformat": 4,
 "nbformat_minor": 5
}
